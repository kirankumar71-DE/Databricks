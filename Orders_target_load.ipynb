{
 "cells": [
  {
   "cell_type": "code",
   "execution_count": 0,
   "metadata": {
    "application/vnd.databricks.v1+cell": {
     "cellMetadata": {},
     "inputWidgets": {},
     "nuid": "870e0735-5919-4da1-82bb-cb5228d3df5d",
     "showTitle": false,
     "tableResultSettingsMap": {},
     "title": ""
    }
   },
   "outputs": [],
   "source": [
    "from delta.tables import *\n",
    "\n",
    "stage_delta_table_name = \"incremental_load.default.orders_stage\"\n",
    "target_delta_table_name = \"incremental_load.default.orders_target\""
   ]
  },
  {
   "cell_type": "code",
   "execution_count": 0,
   "metadata": {
    "application/vnd.databricks.v1+cell": {
     "cellMetadata": {},
     "inputWidgets": {},
     "nuid": "231319f1-6b61-4483-b71b-97094dafb813",
     "showTitle": false,
     "tableResultSettingsMap": {},
     "title": ""
    }
   },
   "outputs": [],
   "source": [
    "stage_df = spark.read.table(stage_delta_table_name)"
   ]
  },
  {
   "cell_type": "code",
   "execution_count": 0,
   "metadata": {
    "application/vnd.databricks.v1+cell": {
     "cellMetadata": {},
     "inputWidgets": {},
     "nuid": "b7bae2ea-0864-411c-a70e-451e423e7e52",
     "showTitle": false,
     "tableResultSettingsMap": {},
     "title": ""
    }
   },
   "outputs": [],
   "source": [
    "# Check if the target Delta table exists\n",
    "if not spark._jsparkSession.catalog().tableExists(target_delta_table_name):\n",
    "    # If the target table does not exist, overwrite it with the stage DataFrame\n",
    "    stage_df.write.format(\"delta\").mode(\"overwrite\").saveAsTable(target_delta_table_name)\n",
    "else:\n",
    "    # If the target table exists, read it into a DataFrame\n",
    "    target_df = DeltaTable.forName(spark, target_delta_table_name)\n",
    "\n",
    "    # Define the merge condition based on the tracking number\n",
    "    merge_condition = \"stage.trackingnum = target.trackingnum\"\n",
    "\n",
    "    # Perform the merge operation: remove matching records in the target table to update with the latest values in the next step\n",
    "    target_df.alias(\"target\")\\\n",
    "    .merge(stage_df.alias(\"stage\"), merge_condition)\\\n",
    "    .whenMatchedDelete()\\\n",
    "    .execute()\n",
    "\n",
    "    # Append the stage DataFrame to the target Delta table\n",
    "    stage_df.write.format(\"delta\").mode(\"append\").saveAsTable(target_delta_table_name)"
   ]
  }
 ],
 "metadata": {
  "application/vnd.databricks.v1+notebook": {
   "computePreferences": null,
   "dashboards": [],
   "environmentMetadata": {
    "base_environment": "",
    "environment_version": "2"
   },
   "language": "python",
   "notebookMetadata": {
    "pythonIndentUnit": 4
   },
   "notebookName": "Orders_target_load",
   "widgets": {}
  },
  "language_info": {
   "name": "python"
  }
 },
 "nbformat": 4,
 "nbformat_minor": 0
}
